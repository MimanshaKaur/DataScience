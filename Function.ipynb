{
 "cells": [
  {
   "cell_type": "code",
   "execution_count": 9,
   "metadata": {},
   "outputs": [],
   "source": [
    "# Non-parameterized function\n",
    "def my_func():\n",
    "    print(\"Hello from my_func!!!\")"
   ]
  },
  {
   "cell_type": "code",
   "execution_count": 10,
   "metadata": {},
   "outputs": [
    {
     "name": "stdout",
     "output_type": "stream",
     "text": [
      "Hello from my_func!!!\n"
     ]
    }
   ],
   "source": [
    "#function calling\n",
    "my_func()"
   ]
  },
  {
   "cell_type": "code",
   "execution_count": 11,
   "metadata": {},
   "outputs": [
    {
     "name": "stdout",
     "output_type": "stream",
     "text": [
      "Hello John\n"
     ]
    }
   ],
   "source": [
    "#parameterized function\n",
    "def name(name):  #name is a parameter\n",
    "    print(\"Hello \"+name)\n",
    "name(\"John\")  #JOhn is an argument"
   ]
  },
  {
   "cell_type": "code",
   "execution_count": 12,
   "metadata": {},
   "outputs": [
    {
     "data": {
      "text/plain": [
       "15"
      ]
     },
     "execution_count": 12,
     "metadata": {},
     "output_type": "execute_result"
    }
   ],
   "source": [
    "def func(x):\n",
    "    return 5*x     #\"return\" returns the value tom get stored in any variable, if required.whereas print() only returns the O/P to get displayed and not stored.\n",
    "func(3)"
   ]
  },
  {
   "cell_type": "code",
   "execution_count": 15,
   "metadata": {},
   "outputs": [
    {
     "name": "stdout",
     "output_type": "stream",
     "text": [
      "20\n"
     ]
    }
   ],
   "source": [
    "a=func(4) # as here the \"return\" of the function returns the value to get stored in variable \"a\"\n",
    "print(a)"
   ]
  },
  {
   "cell_type": "code",
   "execution_count": 16,
   "metadata": {},
   "outputs": [
    {
     "name": "stdout",
     "output_type": "stream",
     "text": [
      "I am from USA\n",
      "I am from UK\n",
      "I am from India\n",
      "I am from Canada\n"
     ]
    }
   ],
   "source": [
    "#default parameterized function\n",
    "def my_country(country=\"India\"):\n",
    "    print(\"I am from \"+country)\n",
    "my_country(\"USA\")\n",
    "my_country(\"UK\")\n",
    "my_country()\n",
    "my_country(\"Canada\")\n"
   ]
  },
  {
   "cell_type": "code",
   "execution_count": 17,
   "metadata": {},
   "outputs": [
    {
     "name": "stdout",
     "output_type": "stream",
     "text": [
      "apple\n",
      "mango\n",
      "banana\n"
     ]
    }
   ],
   "source": [
    "def fruits(fruit):\n",
    "    for x in fruit:\n",
    "        print(x)\n",
    "fruits(['apple','mango','banana'])\n"
   ]
  },
  {
   "cell_type": "code",
   "execution_count": 25,
   "metadata": {},
   "outputs": [
    {
     "name": "stdout",
     "output_type": "stream",
     "text": [
      "even\n"
     ]
    }
   ],
   "source": [
    "def even_odd(n):\n",
    "    if(n%2==0):\n",
    "        return \"even\"\n",
    "    else:\n",
    "        return \"odd\"\n",
    "number=int(input('enter any number: '))\n",
    "num=even_odd(number)\n",
    "print(num)"
   ]
  },
  {
   "cell_type": "code",
   "execution_count": 26,
   "metadata": {},
   "outputs": [
    {
     "name": "stdout",
     "output_type": "stream",
     "text": [
      "5\n"
     ]
    }
   ],
   "source": [
    "#lambda function\n",
    "add= lambda a,b : a+b\n",
    "print(add(2,3))"
   ]
  },
  {
   "cell_type": "code",
   "execution_count": 27,
   "metadata": {},
   "outputs": [
    {
     "name": "stdout",
     "output_type": "stream",
     "text": [
      "True\n"
     ]
    }
   ],
   "source": [
    "#even odd using lambda function\n",
    "even=lambda n:a%2==0\n",
    "print(even(2))"
   ]
  },
  {
   "cell_type": "code",
   "execution_count": 28,
   "metadata": {},
   "outputs": [
    {
     "data": {
      "text/plain": [
       "('welcome', 'to', 'python')"
      ]
     },
     "execution_count": 28,
     "metadata": {},
     "output_type": "execute_result"
    }
   ],
   "source": [
    "def myFunc():\n",
    "    return 'welcome','to','python'\n",
    "myFunc()\n"
   ]
  },
  {
   "cell_type": "code",
   "execution_count": 29,
   "metadata": {},
   "outputs": [
    {
     "name": "stdout",
     "output_type": "stream",
     "text": [
      "welcome\n",
      "to\n",
      "python\n"
     ]
    }
   ],
   "source": [
    "a,b,c = myFunc()\n",
    "print(a)\n",
    "print(b)\n",
    "print(c)\n"
   ]
  },
  {
   "cell_type": "markdown",
   "metadata": {},
   "source": [
    "- check a number is prime or not\n",
    "- convert temperature celsius to fahrenheit\n",
    "- find maximum of 3 numbers\n",
    "- calculate factorial\n",
    "- reverse of a string\n",
    "- count vowels in a string\n",
    "- calculate BMI(Body Mass Index)"
   ]
  },
  {
   "cell_type": "markdown",
   "metadata": {},
   "source": []
  },
  {
   "cell_type": "markdown",
   "metadata": {},
   "source": [
    "# Solutions"
   ]
  },
  {
   "cell_type": "code",
   "execution_count": 67,
   "metadata": {},
   "outputs": [
    {
     "name": "stdout",
     "output_type": "stream",
     "text": [
      "2478  is :  Even\n"
     ]
    }
   ],
   "source": [
    "# to check a number is prime or not\n",
    "def evenodd(num):\n",
    "    if(num%2==0):\n",
    "        return 'Even'\n",
    "    else:\n",
    "        return 'Odd'\n",
    "\n",
    "number= int(input('Enter a number: '))\n",
    "res=evenodd(number)\n",
    "print(number,' is : ',res)\n"
   ]
  },
  {
   "cell_type": "code",
   "execution_count": 1,
   "metadata": {},
   "outputs": [
    {
     "name": "stdout",
     "output_type": "stream",
     "text": [
      "Temp in Fahrenheir:  95.0 F\n"
     ]
    }
   ],
   "source": [
    "#convert temp. celcius to fahrenheit\n",
    "\n",
    "def temp(t):\n",
    "    res=((9/5)*t)+32\n",
    "    print('Temp in Fahrenheir: ',res,'F')\n",
    "\n",
    "temperature=float(input('Enter Temperature in Celcius: '))\n",
    "temp(temperature)"
   ]
  },
  {
   "cell_type": "code",
   "execution_count": 6,
   "metadata": {},
   "outputs": [
    {
     "name": "stdout",
     "output_type": "stream",
     "text": [
      "52 is the maximum number.\n"
     ]
    }
   ],
   "source": [
    "# find maximum of 3 numbers\n",
    "def maximum(a,b,c):\n",
    "    if(a>=b and a>=c):\n",
    "        return a\n",
    "    elif(b>=a and b>=c):\n",
    "        return b\n",
    "    else:\n",
    "        return c\n",
    "\n",
    "a=int(input('enter first number: '))\n",
    "b=int(input('enter second number: '))\n",
    "c=int(input('enter third number: '))\n",
    "res=maximum(a,b,c)\n",
    "print(res,\"is the maximum number.\")\n"
   ]
  },
  {
   "cell_type": "code",
   "execution_count": 9,
   "metadata": {},
   "outputs": [
    {
     "name": "stdout",
     "output_type": "stream",
     "text": [
      "Factorial of  6 is :  720\n"
     ]
    }
   ],
   "source": [
    "# program to calculate factorial\n",
    "def fact(num):\n",
    "    a=1\n",
    "    for i in range(1,num+1):\n",
    "        a=a*i\n",
    "    print('Factorial of ',num,'is : ',a)\n",
    "\n",
    "num=int(input('enter the number: '))\n",
    "fact(num)"
   ]
  },
  {
   "cell_type": "code",
   "execution_count": 28,
   "metadata": {},
   "outputs": [
    {
     "name": "stdout",
     "output_type": "stream",
     "text": [
      "reveresed string:  elppa\n"
     ]
    }
   ],
   "source": [
    "# reverse of a string\n",
    "def reverse(a):\n",
    "    b=''\n",
    "    l=len(a)\n",
    "    for i in range(-1,-(l+1),-1):\n",
    "        b=b+a[i]\n",
    "    print(\"reveresed string: \",b)\n",
    "\n",
    "\n",
    "a=input('enter the string: ')\n",
    "reverse(a)"
   ]
  },
  {
   "cell_type": "code",
   "execution_count": 38,
   "metadata": {},
   "outputs": [
    {
     "name": "stdout",
     "output_type": "stream",
     "text": [
      "EducAtiOn has  5 Vowels.\n"
     ]
    }
   ],
   "source": [
    "# to count vowels in a string\n",
    "def vowel(s):\n",
    "    c=0\n",
    "    for i in s:\n",
    "        if i in ('a','e','i','o','u','A','E','I','O','U'):\n",
    "            c+=1\n",
    "        else:\n",
    "            continue\n",
    "    return c\n",
    "\n",
    "st=input('enter a string: ')\n",
    "res=vowel(st)\n",
    "print(st,'has ',res,'Vowels.')\n"
   ]
  },
  {
   "cell_type": "code",
   "execution_count": 40,
   "metadata": {},
   "outputs": [
    {
     "name": "stdout",
     "output_type": "stream",
     "text": [
      "BMI is :  22.650586999334745\n"
     ]
    }
   ],
   "source": [
    "# to calculate BMI\n",
    "def bmi(wt,ht):\n",
    "    res=(wt/(ht*ht))\n",
    "    return res\n",
    "weight=float(input('enter weight in Kg: '))\n",
    "height= float(input('enter height in Metres: '))\n",
    "result=bmi(weight,height)\n",
    "print('BMI is : ', result)"
   ]
  },
  {
   "cell_type": "markdown",
   "metadata": {},
   "source": [
    "# Built-in Functions"
   ]
  },
  {
   "cell_type": "code",
   "execution_count": 1,
   "metadata": {},
   "outputs": [],
   "source": [
    "import math   #math is a library in python that provides us with various built-in functions..."
   ]
  },
  {
   "cell_type": "code",
   "execution_count": 4,
   "metadata": {},
   "outputs": [
    {
     "name": "stdout",
     "output_type": "stream",
     "text": [
      "4.0\n",
      "120\n",
      "3.141592653589793\n",
      "12\n",
      "0.8939966636005579\n",
      "-0.4480736161291701\n",
      "24\n"
     ]
    }
   ],
   "source": [
    "print(math.sqrt(16))\n",
    "print(math.factorial(5))\n",
    "print(math.pi)\n",
    "print(math.gcd(12,24))\n",
    "print(math.sin(90))\n",
    "print(math.cos(90))\n",
    "print(math.lcm(12,24))"
   ]
  },
  {
   "cell_type": "code",
   "execution_count": 5,
   "metadata": {},
   "outputs": [],
   "source": [
    "from random import random, randint, choice, shuffle"
   ]
  },
  {
   "cell_type": "code",
   "execution_count": 27,
   "metadata": {},
   "outputs": [
    {
     "name": "stdout",
     "output_type": "stream",
     "text": [
      "get a random number between 0 and 2:  0.08979811882001698\n",
      "get a random number between 0 and 2:  2\n",
      "get a random element from list:  5\n",
      "get a random element from tuple:  7\n",
      "Shuffled list:  ['Karan', 'Smith', 'Riya', 'John']\n"
     ]
    }
   ],
   "source": [
    "print('get a random number between 0 and 2: ',random())   # random() always returns a decimal value\n",
    "print('get a random number between 0 and 2: ',randint(0,2))   # randint() always returns a integer value\n",
    "print('get a random element from list: ',choice([1,2,3,4,5]))   # choice returns a random element from list/tuple\n",
    "print('get a random element from tuple: ',choice((6,7,8,9,10)))\n",
    "names=['John','Smith','Karan','Riya']\n",
    "shuffle(names)          #shuffle function shuffles the list elements and returns a new shuffled list\n",
    "print('Shuffled list: ',names)"
   ]
  },
  {
   "cell_type": "code",
   "execution_count": 26,
   "metadata": {},
   "outputs": [],
   "source": [
    "from datetime import datetime as dt   #'dt' is an alias or short name for 'datetime function''"
   ]
  },
  {
   "cell_type": "code",
   "execution_count": 36,
   "metadata": {},
   "outputs": [
    {
     "name": "stdout",
     "output_type": "stream",
     "text": [
      "Current date and time:  2024-09-06 10:20:28.026739\n",
      "Current date:  2024-09-06\n",
      "Current time:  10:20:28.026739\n",
      "Current year:  2024\n",
      "Current month:  9\n",
      "Current day:  6\n",
      "Current Hour:  10\n",
      "Current Minute:  20\n",
      "Current Second:  28\n",
      "Current Microsecond:  26739\n",
      "Current weekday:  4\n"
     ]
    }
   ],
   "source": [
    "print('Current date and time: ',dt.now())   # now() returns both date and time\n",
    "print('Current date: ', dt.now().date())    # this will return current date only\n",
    "print('Current time: ', dt.now().time())    # this will return current time only\n",
    "print('Current year: ', dt.now().year)   # this will return year only\n",
    "print('Current month: ', dt.now().month)    # this will return month only\n",
    "print('Current day: ', dt.now().day)    # this will return current day only\n",
    "print('Current Hour: ', dt.now().hour)    # this will return hour only\n",
    "print('Current Minute: ', dt.now().minute)    # this will return minute only\n",
    "print('Current Second: ', dt.now().second)    # this will return second only\n",
    "print('Current Microsecond: ', dt.now().microsecond)    # this will return microsecond only\n",
    "print('Current weekday: ', dt.now().weekday())    # this will return weekday only\n"
   ]
  },
  {
   "cell_type": "code",
   "execution_count": 43,
   "metadata": {},
   "outputs": [
    {
     "name": "stdout",
     "output_type": "stream",
     "text": [
      "Current date:  09-06-24\n",
      "Current Time:  10:28:02\n"
     ]
    }
   ],
   "source": [
    "date=dt.strftime(dt.now(),'%m-%d-%y')  #'strftime' is string format time\n",
    "print('Current date: ',date)\n",
    "\n",
    "time=dt.strftime(dt.now(),'%H:%M:%S')   # time format should be always given here in uppercase\n",
    "print('Current Time: ', time)"
   ]
  },
  {
   "cell_type": "code",
   "execution_count": 44,
   "metadata": {},
   "outputs": [],
   "source": [
    "import os    #'os' is a very imp. library as it tells us about our operating system--- gives info about folders, files, and directories."
   ]
  },
  {
   "cell_type": "code",
   "execution_count": 45,
   "metadata": {},
   "outputs": [
    {
     "name": "stdout",
     "output_type": "stream",
     "text": [
      "Current Folder:  c:\\Users\\Mimansha\\OneDrive\\Documents\\GitHub\\DataScience\n"
     ]
    }
   ],
   "source": [
    "print('Current Folder: ',os.getcwd())    #getcwd()---get_current_working_directory"
   ]
  },
  {
   "cell_type": "code",
   "execution_count": 52,
   "metadata": {},
   "outputs": [
    {
     "name": "stdout",
     "output_type": "stream",
     "text": [
      "Files and Folders in current Directory:  ['.git', 'Basics.ipynb', 'Basics.py', 'Data Structures', 'Function.ipynb', 'Loops.ipynb', 'Operators.ipynb', 'practice.ipynb', 'Variables.ipynb']\n",
      "9\n"
     ]
    }
   ],
   "source": [
    "files= os.listdir()  #lists all files and folders in current directory\n",
    "print('Files and Folders in current Directory: ',files)\n",
    "print(len(files))"
   ]
  },
  {
   "cell_type": "code",
   "execution_count": 53,
   "metadata": {},
   "outputs": [
    {
     "name": "stdout",
     "output_type": "stream",
     "text": [
      "Files and Folders in OIBSIP Directory:  ['.git', '.gitattributes', '.vscode', 'OIBSIP_Task1(Landing_Page)', 'OIBSIP_Task2(Portfolio)', 'OIBSIP_Task3(TempConverter)']\n",
      "6\n"
     ]
    }
   ],
   "source": [
    "file= os.listdir(r\"C:\\Users\\Mimansha\\OneDrive\\Documents\\GitHub\\OIBSIP\")  # 'r' helps to 'recognize' the path given as path and not as a string\n",
    "print('Files and Folders in OIBSIP Directory: ',file)\n",
    "print(len(file))"
   ]
  },
  {
   "cell_type": "code",
   "execution_count": 54,
   "metadata": {},
   "outputs": [
    {
     "data": {
      "text/plain": [
       "<generator object walk at 0x000001838B9DCD30>"
      ]
     },
     "execution_count": 54,
     "metadata": {},
     "output_type": "execute_result"
    }
   ],
   "source": [
    "os.walk('C:')"
   ]
  },
  {
   "cell_type": "code",
   "execution_count": 55,
   "metadata": {},
   "outputs": [
    {
     "name": "stdout",
     "output_type": "stream",
     "text": [
      "=> C:\n",
      "📁  ['.git', 'Data Structures']\n",
      "📄  ['Basics.ipynb', 'Basics.py', 'Function.ipynb', 'Loops.ipynb', 'Operators.ipynb', 'practice.ipynb', 'Variables.ipynb']\n",
      "Total Files:  7\n",
      "=> C:.git\n",
      "📁  ['hooks', 'info', 'logs', 'objects', 'refs']\n",
      "📄  ['COMMIT_EDITMSG', 'config', 'description', 'FETCH_HEAD', 'HEAD', 'index']\n",
      "Total Files:  6\n",
      "=> C:.git\\hooks\n",
      "📁  []\n",
      "📄  ['applypatch-msg.sample', 'commit-msg.sample', 'fsmonitor-watchman.sample', 'post-update.sample', 'pre-applypatch.sample', 'pre-commit.sample', 'pre-merge-commit.sample', 'pre-push.sample', 'pre-rebase.sample', 'pre-receive.sample', 'prepare-commit-msg.sample', 'push-to-checkout.sample', 'sendemail-validate.sample', 'update.sample']\n",
      "Total Files:  14\n",
      "=> C:.git\\info\n",
      "📁  []\n",
      "📄  ['exclude']\n",
      "Total Files:  1\n",
      "=> C:.git\\logs\n",
      "📁  ['refs']\n",
      "📄  ['HEAD']\n",
      "Total Files:  1\n",
      "=> C:.git\\logs\\refs\n",
      "📁  ['heads', 'remotes']\n",
      "📄  []\n",
      "Total Files:  0\n",
      "=> C:.git\\logs\\refs\\heads\n",
      "📁  []\n",
      "📄  ['main']\n",
      "Total Files:  1\n",
      "=> C:.git\\logs\\refs\\remotes\n",
      "📁  ['origin']\n",
      "📄  []\n",
      "Total Files:  0\n",
      "=> C:.git\\logs\\refs\\remotes\\origin\n",
      "📁  []\n",
      "📄  ['main']\n",
      "Total Files:  1\n",
      "=> C:.git\\objects\n",
      "📁  ['27', '45', '49', '5e', '61', '66', '70', '72', '7e', '92', '95', '99', '9f', 'a0', 'a9', 'aa', 'be', 'c0', 'c8', 'cf', 'e6', 'e7', 'f3', 'info', 'pack']\n",
      "📄  []\n",
      "Total Files:  0\n",
      "=> C:.git\\objects\\27\n",
      "📁  []\n",
      "📄  ['82303ef0f52a3f98dea7b77fdc67fa55b414e8']\n",
      "Total Files:  1\n",
      "=> C:.git\\objects\\45\n",
      "📁  []\n",
      "📄  ['1bdeead07c01820c7033e8cf8885180805d07c']\n",
      "Total Files:  1\n",
      "=> C:.git\\objects\\49\n",
      "📁  []\n",
      "📄  ['5ff1fd21c5df3852a53dfc6a84ad85c285e893']\n",
      "Total Files:  1\n",
      "=> C:.git\\objects\\5e\n",
      "📁  []\n",
      "📄  ['0fc5dca91816cd07e1411712f5ee03f9eec94b']\n",
      "Total Files:  1\n",
      "=> C:.git\\objects\\61\n",
      "📁  []\n",
      "📄  ['c1329d06bc579d85480ef44627b780a1f954e9']\n",
      "Total Files:  1\n",
      "=> C:.git\\objects\\66\n",
      "📁  []\n",
      "📄  ['8de5718adc5ab58f655f1760ef442da25922fb']\n",
      "Total Files:  1\n",
      "=> C:.git\\objects\\70\n",
      "📁  []\n",
      "📄  ['0c2ad87f2e1e35f83e59bbe970fc1859f57061']\n",
      "Total Files:  1\n",
      "=> C:.git\\objects\\72\n",
      "📁  []\n",
      "📄  ['fe1e4c6129e4c8a7b0dd7468dfff23a845b6ca']\n",
      "Total Files:  1\n",
      "=> C:.git\\objects\\7e\n",
      "📁  []\n",
      "📄  ['9a33879e849a95dca69793bd7b0f8d65c309d8']\n",
      "Total Files:  1\n",
      "=> C:.git\\objects\\92\n",
      "📁  []\n",
      "📄  ['d2cb87e178e0f73d53ccb977f9c3314454d1db']\n",
      "Total Files:  1\n",
      "=> C:.git\\objects\\95\n",
      "📁  []\n",
      "📄  ['791e30f0add5a823e063b5282b4b6eb1cdfd7f']\n",
      "Total Files:  1\n",
      "=> C:.git\\objects\\99\n",
      "📁  []\n",
      "📄  ['b97c6e1168d94c32d82ba756c519d449a491ae']\n",
      "Total Files:  1\n",
      "=> C:.git\\objects\\9f\n",
      "📁  []\n",
      "📄  ['1b49bcde36f54f61f5db6d6a788a3fc5a82607', 'ce8dbfbc9679492b3d05e517e76d3f92051d0a']\n",
      "Total Files:  2\n",
      "=> C:.git\\objects\\a0\n",
      "📁  []\n",
      "📄  ['3b0f4d5fe2cb0dd61c8c18b39a8013bed247d9']\n",
      "Total Files:  1\n",
      "=> C:.git\\objects\\a9\n",
      "📁  []\n",
      "📄  ['92a723cf4afad994015236018ecacd8a1c0e99']\n",
      "Total Files:  1\n",
      "=> C:.git\\objects\\aa\n",
      "📁  []\n",
      "📄  ['9cef7bbf90e3b7e686d72535b88112dbdf3ec6']\n",
      "Total Files:  1\n",
      "=> C:.git\\objects\\be\n",
      "📁  []\n",
      "📄  ['b6927d1f5352d2a689107b7cef847ca23217b1']\n",
      "Total Files:  1\n",
      "=> C:.git\\objects\\c0\n",
      "📁  []\n",
      "📄  ['33d84ef5ec1e9c857037bb6449c6917961506b']\n",
      "Total Files:  1\n",
      "=> C:.git\\objects\\c8\n",
      "📁  []\n",
      "📄  ['708ba2f084f542e422d63d9be1b912a9906bbc']\n",
      "Total Files:  1\n",
      "=> C:.git\\objects\\cf\n",
      "📁  []\n",
      "📄  ['2825047070d12fe07a2ddd511d45730365ff79']\n",
      "Total Files:  1\n",
      "=> C:.git\\objects\\e6\n",
      "📁  []\n",
      "📄  ['4af6d3044d42639a04bd21e1babc27136982c3', '9de29bb2d1d6434b8b29ae775ad8c2e48c5391']\n",
      "Total Files:  2\n",
      "=> C:.git\\objects\\e7\n",
      "📁  []\n",
      "📄  ['5154b7c390fdc4aa85d86e0a191be255a00627']\n",
      "Total Files:  1\n",
      "=> C:.git\\objects\\f3\n",
      "📁  []\n",
      "📄  ['fcb3760509300f8162b62b7857a45bb77be6db']\n",
      "Total Files:  1\n",
      "=> C:.git\\objects\\info\n",
      "📁  []\n",
      "📄  []\n",
      "Total Files:  0\n",
      "=> C:.git\\objects\\pack\n",
      "📁  []\n",
      "📄  []\n",
      "Total Files:  0\n",
      "=> C:.git\\refs\n",
      "📁  ['heads', 'remotes', 'tags']\n",
      "📄  []\n",
      "Total Files:  0\n",
      "=> C:.git\\refs\\heads\n",
      "📁  []\n",
      "📄  ['main']\n",
      "Total Files:  1\n",
      "=> C:.git\\refs\\remotes\n",
      "📁  ['origin']\n",
      "📄  []\n",
      "Total Files:  0\n",
      "=> C:.git\\refs\\remotes\\origin\n",
      "📁  []\n",
      "📄  ['main']\n",
      "Total Files:  1\n",
      "=> C:.git\\refs\\tags\n",
      "📁  []\n",
      "📄  []\n",
      "Total Files:  0\n",
      "=> C:Data Structures\n",
      "📁  []\n",
      "📄  ['List.ipynb']\n",
      "Total Files:  1\n"
     ]
    }
   ],
   "source": [
    "total_files=0\n",
    "for path,folders,files in os.walk('C:'):\n",
    "    print('=>' ,path)\n",
    "    print('📁 ', folders)\n",
    "    print('📄 ', files )\n",
    "    total_files =len(files)\n",
    "    print('Total Files: ', total_files)"
   ]
  },
  {
   "cell_type": "code",
   "execution_count": 66,
   "metadata": {},
   "outputs": [
    {
     "name": "stdout",
     "output_type": "stream",
     "text": [
      "Folder Exists...\n",
      "Size in bytes:  3211 bytes\n",
      "size in KB:  3.1357421875 KB\n",
      "size in MB:  0.0030622482299804688 MB\n",
      "size in GB:  2.9904767870903015e-06 GB\n"
     ]
    }
   ],
   "source": [
    "files= r\"C:\\Users\\Mimansha\\OneDrive\\Documents\\GitHub\\P2E project\\templates\\base.html\"\n",
    "if os.path.exists(files):\n",
    "    print('Folder Exists...')\n",
    "    size= os.path.getsize(files)\n",
    "    print('Size in bytes: ',size,'bytes')\n",
    "    print('size in KB: ',size/1024,'KB')\n",
    "    print('size in MB: ',size/1024/1024,'MB')\n",
    "    print('size in GB: ',size/1024/1024/1024,'GB')\n",
    "else:\n",
    "    print('Folder does not Exists...')"
   ]
  },
  {
   "cell_type": "code",
   "execution_count": null,
   "metadata": {},
   "outputs": [],
   "source": []
  }
 ],
 "metadata": {
  "kernelspec": {
   "display_name": "base",
   "language": "python",
   "name": "python3"
  },
  "language_info": {
   "codemirror_mode": {
    "name": "ipython",
    "version": 3
   },
   "file_extension": ".py",
   "mimetype": "text/x-python",
   "name": "python",
   "nbconvert_exporter": "python",
   "pygments_lexer": "ipython3",
   "version": "3.12.4"
  }
 },
 "nbformat": 4,
 "nbformat_minor": 2
}
