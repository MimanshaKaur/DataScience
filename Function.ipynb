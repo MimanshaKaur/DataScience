{
 "cells": [
  {
   "cell_type": "code",
   "execution_count": 9,
   "metadata": {},
   "outputs": [],
   "source": [
    "# Non-parameterized function\n",
    "def my_func():\n",
    "    print(\"Hello from my_func!!!\")"
   ]
  },
  {
   "cell_type": "code",
   "execution_count": 10,
   "metadata": {},
   "outputs": [
    {
     "name": "stdout",
     "output_type": "stream",
     "text": [
      "Hello from my_func!!!\n"
     ]
    }
   ],
   "source": [
    "#function calling\n",
    "my_func()"
   ]
  },
  {
   "cell_type": "code",
   "execution_count": 11,
   "metadata": {},
   "outputs": [
    {
     "name": "stdout",
     "output_type": "stream",
     "text": [
      "Hello John\n"
     ]
    }
   ],
   "source": [
    "#parameterized function\n",
    "def name(name):  #name is a parameter\n",
    "    print(\"Hello \"+name)\n",
    "name(\"John\")  #JOhn is an argument"
   ]
  },
  {
   "cell_type": "code",
   "execution_count": 12,
   "metadata": {},
   "outputs": [
    {
     "data": {
      "text/plain": [
       "15"
      ]
     },
     "execution_count": 12,
     "metadata": {},
     "output_type": "execute_result"
    }
   ],
   "source": [
    "def func(x):\n",
    "    return 5*x     #\"return\" returns the value tom get stored in any variable, if required.whereas print() only returns the O/P to get displayed and not stored.\n",
    "func(3)"
   ]
  },
  {
   "cell_type": "code",
   "execution_count": 15,
   "metadata": {},
   "outputs": [
    {
     "name": "stdout",
     "output_type": "stream",
     "text": [
      "20\n"
     ]
    }
   ],
   "source": [
    "a=func(4) # as here the \"return\" of the function returns the value to get stored in variable \"a\"\n",
    "print(a)"
   ]
  },
  {
   "cell_type": "code",
   "execution_count": 16,
   "metadata": {},
   "outputs": [
    {
     "name": "stdout",
     "output_type": "stream",
     "text": [
      "I am from USA\n",
      "I am from UK\n",
      "I am from India\n",
      "I am from Canada\n"
     ]
    }
   ],
   "source": [
    "#default parameterized function\n",
    "def my_country(country=\"India\"):\n",
    "    print(\"I am from \"+country)\n",
    "my_country(\"USA\")\n",
    "my_country(\"UK\")\n",
    "my_country()\n",
    "my_country(\"Canada\")\n"
   ]
  },
  {
   "cell_type": "code",
   "execution_count": 17,
   "metadata": {},
   "outputs": [
    {
     "name": "stdout",
     "output_type": "stream",
     "text": [
      "apple\n",
      "mango\n",
      "banana\n"
     ]
    }
   ],
   "source": [
    "def fruits(fruit):\n",
    "    for x in fruit:\n",
    "        print(x)\n",
    "fruits(['apple','mango','banana'])\n"
   ]
  },
  {
   "cell_type": "code",
   "execution_count": 25,
   "metadata": {},
   "outputs": [
    {
     "name": "stdout",
     "output_type": "stream",
     "text": [
      "even\n"
     ]
    }
   ],
   "source": [
    "def even_odd(n):\n",
    "    if(n%2==0):\n",
    "        return \"even\"\n",
    "    else:\n",
    "        return \"odd\"\n",
    "number=int(input('enter any number: '))\n",
    "num=even_odd(number)\n",
    "print(num)"
   ]
  },
  {
   "cell_type": "code",
   "execution_count": 26,
   "metadata": {},
   "outputs": [
    {
     "name": "stdout",
     "output_type": "stream",
     "text": [
      "5\n"
     ]
    }
   ],
   "source": [
    "#lambda function\n",
    "add= lambda a,b : a+b\n",
    "print(add(2,3))"
   ]
  },
  {
   "cell_type": "code",
   "execution_count": 27,
   "metadata": {},
   "outputs": [
    {
     "name": "stdout",
     "output_type": "stream",
     "text": [
      "True\n"
     ]
    }
   ],
   "source": [
    "#even odd using lambda function\n",
    "even=lambda n:a%2==0\n",
    "print(even(2))"
   ]
  },
  {
   "cell_type": "code",
   "execution_count": 28,
   "metadata": {},
   "outputs": [
    {
     "data": {
      "text/plain": [
       "('welcome', 'to', 'python')"
      ]
     },
     "execution_count": 28,
     "metadata": {},
     "output_type": "execute_result"
    }
   ],
   "source": [
    "def myFunc():\n",
    "    return 'welcome','to','python'\n",
    "myFunc()\n"
   ]
  },
  {
   "cell_type": "code",
   "execution_count": 29,
   "metadata": {},
   "outputs": [
    {
     "name": "stdout",
     "output_type": "stream",
     "text": [
      "welcome\n",
      "to\n",
      "python\n"
     ]
    }
   ],
   "source": [
    "a,b,c = myFunc()\n",
    "print(a)\n",
    "print(b)\n",
    "print(c)\n"
   ]
  },
  {
   "cell_type": "markdown",
   "metadata": {},
   "source": [
    "- check a number is prime or not\n",
    "- convert temperature celsius to fahrenheit\n",
    "- find maximum of 3 numbers\n",
    "- calculate factorial\n",
    "- reverse of a string\n",
    "- count vowels in a string\n",
    "- calculate BMI(Body Mass Index)"
   ]
  },
  {
   "cell_type": "markdown",
   "metadata": {},
   "source": []
  }
 ],
 "metadata": {
  "kernelspec": {
   "display_name": "base",
   "language": "python",
   "name": "python3"
  },
  "language_info": {
   "codemirror_mode": {
    "name": "ipython",
    "version": 3
   },
   "file_extension": ".py",
   "mimetype": "text/x-python",
   "name": "python",
   "nbconvert_exporter": "python",
   "pygments_lexer": "ipython3",
   "version": "3.12.4"
  }
 },
 "nbformat": 4,
 "nbformat_minor": 2
}
