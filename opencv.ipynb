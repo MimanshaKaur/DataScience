{
 "cells": [
  {
   "cell_type": "code",
   "execution_count": 1,
   "metadata": {},
   "outputs": [],
   "source": [
    "import cv2"
   ]
  },
  {
   "cell_type": "code",
   "execution_count": 2,
   "metadata": {},
   "outputs": [],
   "source": [
    "image = cv2.imread(\"img1.jpeg\")\n",
    "\n",
    "if image is not None:\n",
    "    cv2.imshow(\"Image\", image)   #imshow() is used to show or display image\n",
    "    cv2.waitKey(0)  #waitKey is used to wait for a key press to close the window and 0 is used to wait indefinitely.\n",
    "    cv2.destroyAllWindows()\n",
    "else:\n",
    "    print(\"Image not found...\")"
   ]
  },
  {
   "cell_type": "code",
   "execution_count": 3,
   "metadata": {},
   "outputs": [
    {
     "data": {
      "text/plain": [
       "-1"
      ]
     },
     "execution_count": 3,
     "metadata": {},
     "output_type": "execute_result"
    }
   ],
   "source": [
    "gray_image = cv2.cvtColor(image, cv2.COLOR_BGR2GRAY)\n",
    "cv2.imshow(\"Gray Image\", gray_image)\n",
    "cv2.waitKey(0)"
   ]
  },
  {
   "cell_type": "code",
   "execution_count": 4,
   "metadata": {},
   "outputs": [
    {
     "data": {
      "text/plain": [
       "-1"
      ]
     },
     "execution_count": 4,
     "metadata": {},
     "output_type": "execute_result"
    }
   ],
   "source": [
    "blurred_image =  cv2.GaussianBlur(image, (15,15), 0) # (15,15) is the kernel size and kernel size means the size of the filter and 0 is standard deviation\n",
    "cv2.imshow(\"Blurred Image\" , blurred_image)\n",
    "cv2.waitKey(0)"
   ]
  },
  {
   "cell_type": "code",
   "execution_count": 5,
   "metadata": {},
   "outputs": [
    {
     "data": {
      "text/plain": [
       "-1"
      ]
     },
     "execution_count": 5,
     "metadata": {},
     "output_type": "execute_result"
    }
   ],
   "source": [
    "#Canny() used to detect edges of image\n",
    "\n",
    "edges = cv2.Canny(gray_image,100,200)  #100 is the lowest threshold and 200 is the upper threshold, threshold is the minimum value of the gradient\n",
    "cv2.imshow(\"Edges\", edges)\n",
    "cv2.waitKey(0)"
   ]
  },
  {
   "cell_type": "code",
   "execution_count": 9,
   "metadata": {},
   "outputs": [
    {
     "name": "stdout",
     "output_type": "stream",
     "text": [
      "(1536, 1536, 3)\n"
     ]
    },
    {
     "data": {
      "text/plain": [
       "-1"
      ]
     },
     "execution_count": 9,
     "metadata": {},
     "output_type": "execute_result"
    }
   ],
   "source": [
    "image = cv2.imread(\"img1.jpeg\")\n",
    "print(image.shape)  #1536 is the height and 1536 is the width and 3 is the number of channels , channels are the number of colors in the image\n",
    "\n",
    "# resizing image\n",
    "resize_image = cv2.resize(image, (300,300))   # (300,300) is the new size of the image for resizing\n",
    "\n",
    "cv2.imshow(\"Image\", image)    # to display actual image\n",
    "cv2.imshow(\"Resized image\", resize_image)    # to display resized image\n",
    "cv2.waitKey(0)\n",
    "\n",
    "# to crop image\n",
    "croppedImage =  image[0:200, 200:500]  # [0:200, 200:500] is the height and width of the image\n",
    "\n",
    "cv2.imshow(\"Image\", image)    # to display actual image\n",
    "cv2.imshow(\"Resized image\", resize_image)    # to display resized image\n",
    "cv2.imshow(\"Cropped Image\", croppedImage)    # to display cropped image\n",
    "cv2.waitKey(0)"
   ]
  },
  {
   "cell_type": "code",
   "execution_count": 10,
   "metadata": {},
   "outputs": [
    {
     "data": {
      "text/plain": [
       "-1"
      ]
     },
     "execution_count": 10,
     "metadata": {},
     "output_type": "execute_result"
    }
   ],
   "source": [
    "\n",
    "# to draw something on image\n",
    "\n",
    "drawing = image.copy()  # making copy of the  image\n",
    "cv2.rectangle( drawing, (50,50), (200,200), (0,255,0), 2) # (50,50, is the starting point and (200,200) is the ending point (0,255,0) is the color of rectangle and 2 is the thickness of the rectangle\n",
    "cv2.circle(drawing, (300,300), 50, (0,0,255), 2)   #(300,300) is the center of the circle , 50 is the radius of the circle , (0,0,255) is the color of the circle,  and 2 is the thickness of the circle\n",
    "cv2.imshow(\"Drawing\" , drawing)\n",
    "cv2.waitKey(0)\n"
   ]
  },
  {
   "cell_type": "code",
   "execution_count": null,
   "metadata": {},
   "outputs": [],
   "source": []
  }
 ],
 "metadata": {
  "kernelspec": {
   "display_name": "base",
   "language": "python",
   "name": "python3"
  },
  "language_info": {
   "codemirror_mode": {
    "name": "ipython",
    "version": 3
   },
   "file_extension": ".py",
   "mimetype": "text/x-python",
   "name": "python",
   "nbconvert_exporter": "python",
   "pygments_lexer": "ipython3",
   "version": "3.12.4"
  }
 },
 "nbformat": 4,
 "nbformat_minor": 2
}
