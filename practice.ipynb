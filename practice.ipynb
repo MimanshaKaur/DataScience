{
 "cells": [
  {
   "cell_type": "code",
   "execution_count": null,
   "metadata": {},
   "outputs": [],
   "source": [
    "1- WAP to print cube of 9\n",
    "2- WAP to calculate area of circle\n",
    "3- Calculate the grosss salary of employee where the basic salary is 80000, HRA is 10%of basic salary and DA is 5% of basic salary."
   ]
  },
  {
   "cell_type": "code",
   "execution_count": 2,
   "metadata": {},
   "outputs": [
    {
     "name": "stdout",
     "output_type": "stream",
     "text": [
      "cube of 9 is: 729\n"
     ]
    }
   ],
   "source": [
    "n=9\n",
    "print(\"cube of 9 is:\",n**3)"
   ]
  },
  {
   "cell_type": "code",
   "execution_count": 4,
   "metadata": {},
   "outputs": [
    {
     "name": "stdout",
     "output_type": "stream",
     "text": [
      "area of circle is:  12.56\n"
     ]
    }
   ],
   "source": [
    "r=float(input('enter the radius: '))\n",
    "area= 3.14*r*r\n",
    "print('area of circle is: ', area)\n"
   ]
  },
  {
   "cell_type": "code",
   "execution_count": 5,
   "metadata": {},
   "outputs": [
    {
     "name": "stdout",
     "output_type": "stream",
     "text": [
      "gross salary:  92000.0\n"
     ]
    }
   ],
   "source": [
    "bs=80000\n",
    "hra=0.1*bs\n",
    "da=0.05*bs\n",
    "sum=(bs+hra+da)\n",
    "print('gross salary: ',sum)\n"
   ]
  },
  {
   "cell_type": "markdown",
   "metadata": {},
   "source": []
  }
 ],
 "metadata": {
  "kernelspec": {
   "display_name": "base",
   "language": "python",
   "name": "python3"
  },
  "language_info": {
   "codemirror_mode": {
    "name": "ipython",
    "version": 3
   },
   "file_extension": ".py",
   "mimetype": "text/x-python",
   "name": "python",
   "nbconvert_exporter": "python",
   "pygments_lexer": "ipython3",
   "version": "3.12.4"
  }
 },
 "nbformat": 4,
 "nbformat_minor": 2
}
