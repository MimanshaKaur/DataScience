{
 "cells": [
  {
   "cell_type": "code",
   "execution_count": 1,
   "metadata": {},
   "outputs": [
    {
     "name": "stdout",
     "output_type": "stream",
     "text": [
      "['google', 'zomato', 'swiggy', 'uber', 'chrome', 'photos', 'drive', 'instagram', 'whatsapp', 'facebook', 'linkedin', 'X', 'telegram', 'meesho', 'nykaa']\n"
     ]
    }
   ],
   "source": [
    "apps=['google','zomato','swiggy','uber','chrome','photos','drive','instagram','whatsapp','facebook','linkedin','X','telegram','meesho','nykaa']\n",
    "print(apps)"
   ]
  },
  {
   "cell_type": "code",
   "execution_count": 4,
   "metadata": {},
   "outputs": [
    {
     "name": "stdout",
     "output_type": "stream",
     "text": [
      "swiggy\n",
      "whatsapp\n",
      "telegram\n",
      "facebook\n"
     ]
    }
   ],
   "source": [
    "#indexing\n",
    "print(apps[2])\n",
    "print(apps[8])\n",
    "print(apps[-3])\n",
    "print(apps[-6])"
   ]
  },
  {
   "cell_type": "code",
   "execution_count": 18,
   "metadata": {},
   "outputs": [
    {
     "name": "stdout",
     "output_type": "stream",
     "text": [
      "['swiggy', 'uber', 'chrome', 'photos', 'drive', 'instagram']\n",
      "['google', 'swiggy', 'chrome', 'drive', 'whatsapp', 'linkedin']\n",
      "['google', 'zomato', 'swiggy', 'uber', 'chrome', 'photos']\n",
      "['uber', 'chrome', 'photos', 'drive', 'instagram', 'whatsapp', 'facebook', 'linkedin', 'X', 'telegram', 'meesho', 'nykaa']\n",
      "['google', 'zomato', 'swiggy', 'uber', 'chrome', 'photos', 'drive', 'instagram', 'whatsapp', 'facebook', 'linkedin', 'X', 'telegram', 'meesho', 'nykaa']\n"
     ]
    }
   ],
   "source": [
    "#slicing\n",
    "print(apps[2:8])\n",
    "print(apps[0:12:2])\n",
    "print(apps[:6])\n",
    "print(apps[3:])\n",
    "print(apps[:])"
   ]
  },
  {
   "cell_type": "markdown",
   "metadata": {},
   "source": [
    "LIST METHODS\n",
    "- append()\n",
    "- insert()\n",
    "- pop()\n",
    "- remove()\n",
    "- sort()\n",
    "- reverse()\n",
    "- extend()\n",
    "- copy()\n",
    "- clear()"
   ]
  },
  {
   "cell_type": "code",
   "execution_count": 19,
   "metadata": {},
   "outputs": [
    {
     "name": "stdout",
     "output_type": "stream",
     "text": [
      "['google', 'zomato', 'swiggy', 'uber', 'chrome', 'photos', 'drive', 'instagram', 'whatsapp', 'facebook', 'linkedin', 'X', 'telegram', 'meesho', 'nykaa']\n"
     ]
    }
   ],
   "source": [
    "print(apps)"
   ]
  },
  {
   "cell_type": "code",
   "execution_count": 21,
   "metadata": {},
   "outputs": [
    {
     "name": "stdout",
     "output_type": "stream",
     "text": [
      "['google', 'zomato', 'swiggy', 'uber', 'chrome', 'photos', 'drive', 'instagram', 'whatsapp', 'facebook', 'linkedin', 'X', 'telegram', 'meesho', 'nykaa', 'snapchat', 'snapchat']\n"
     ]
    }
   ],
   "source": [
    "#append() is used to add element at last\n",
    "apps.append('snapchat')\n",
    "print(apps)"
   ]
  },
  {
   "cell_type": "code",
   "execution_count": 22,
   "metadata": {},
   "outputs": [
    {
     "name": "stdout",
     "output_type": "stream",
     "text": [
      "['google', 'zomato', 'swiggy', 'uber', 'Rapido', 'chrome', 'photos', 'drive', 'instagram', 'whatsapp', 'facebook', 'linkedin', 'X', 'telegram', 'meesho', 'nykaa', 'snapchat', 'snapchat']\n"
     ]
    }
   ],
   "source": [
    "#insert() is used to insert elemenet at specific position\n",
    "apps.insert(4,'Rapido')\n",
    "print(apps)"
   ]
  },
  {
   "cell_type": "code",
   "execution_count": 23,
   "metadata": {},
   "outputs": [
    {
     "name": "stdout",
     "output_type": "stream",
     "text": [
      "['google', 'zomato', 'swiggy', 'uber', 'Rapido', 'chrome', 'photos', 'instagram', 'whatsapp', 'facebook', 'linkedin', 'X', 'telegram', 'meesho', 'nykaa', 'snapchat', 'snapchat']\n"
     ]
    }
   ],
   "source": [
    "#pop() is used to remove using index position\n",
    "apps.pop(7)\n",
    "print(apps)"
   ]
  },
  {
   "cell_type": "code",
   "execution_count": 25,
   "metadata": {},
   "outputs": [
    {
     "name": "stdout",
     "output_type": "stream",
     "text": [
      "['google', 'zomato', 'uber', 'Rapido', 'chrome', 'photos', 'instagram', 'whatsapp', 'facebook', 'linkedin', 'X', 'telegram', 'meesho', 'nykaa', 'snapchat', 'snapchat']\n"
     ]
    }
   ],
   "source": [
    "#remove() is used to remove using name of element\n",
    "apps.remove(\"swiggy\")\n",
    "print(apps)"
   ]
  },
  {
   "cell_type": "code",
   "execution_count": 26,
   "metadata": {},
   "outputs": [
    {
     "name": "stdout",
     "output_type": "stream",
     "text": [
      "['Rapido', 'X', 'chrome', 'facebook', 'google', 'instagram', 'linkedin', 'meesho', 'nykaa', 'photos', 'snapchat', 'snapchat', 'telegram', 'uber', 'whatsapp', 'zomato']\n"
     ]
    }
   ],
   "source": [
    "#sort()- used to sort alphabetically(capital letters first then small letters)\n",
    "apps.sort()\n",
    "print(apps)"
   ]
  },
  {
   "cell_type": "code",
   "execution_count": 32,
   "metadata": {},
   "outputs": [
    {
     "name": "stdout",
     "output_type": "stream",
     "text": [
      "['zomato', 'whatsapp', 'uber', 'telegram', 'snapchat', 'snapchat', 'photos', 'nykaa', 'meesho', 'linkedin', 'instagram', 'google', 'facebook', 'chrome', 'X', 'Rapido']\n"
     ]
    }
   ],
   "source": [
    "#reverse()- reverses the existing list\n",
    "apps.reverse()\n",
    "print(apps)"
   ]
  },
  {
   "cell_type": "code",
   "execution_count": 33,
   "metadata": {},
   "outputs": [
    {
     "name": "stdout",
     "output_type": "stream",
     "text": [
      "['twitter', 'calender', 'maps', 'youtube', 'spotify']\n"
     ]
    }
   ],
   "source": [
    "apps2=['twitter','calender','maps','youtube','spotify']\n",
    "print(apps2)\n"
   ]
  },
  {
   "cell_type": "code",
   "execution_count": 48,
   "metadata": {},
   "outputs": [
    {
     "name": "stdout",
     "output_type": "stream",
     "text": [
      "['zomato', 'whatsapp', 'uber', 'telegram', 'snapchat', 'snapchat', 'photos', 'nykaa', 'meesho', 'linkedin', 'instagram', 'google', 'facebook', 'chrome', 'X', 'Rapido', 'twitter', 'calender', 'maps', 'youtube', 'spotify']\n"
     ]
    }
   ],
   "source": [
    "#extend()- used to add new list elemnets to existing list elements thereby extending the original list\n",
    "apps.extend(apps2)\n",
    "print(apps)"
   ]
  },
  {
   "cell_type": "code",
   "execution_count": 49,
   "metadata": {},
   "outputs": [
    {
     "name": "stdout",
     "output_type": "stream",
     "text": [
      "['twitter', 'calender', 'maps', 'youtube', 'spotify', 'zomato', 'whatsapp', 'uber', 'telegram', 'snapchat', 'snapchat', 'photos', 'nykaa', 'meesho', 'linkedin', 'instagram', 'google', 'facebook', 'chrome', 'X', 'Rapido', 'twitter', 'calender', 'maps', 'youtube', 'spotify']\n"
     ]
    }
   ],
   "source": [
    "apps2.extend(apps)\n",
    "print(apps2)"
   ]
  },
  {
   "cell_type": "code",
   "execution_count": 50,
   "metadata": {},
   "outputs": [
    {
     "name": "stdout",
     "output_type": "stream",
     "text": [
      "['zomato', 'whatsapp', 'uber', 'telegram', 'snapchat', 'snapchat', 'photos', 'nykaa', 'meesho', 'linkedin', 'instagram', 'google', 'facebook', 'chrome', 'X', 'Rapido', 'twitter', 'calender', 'maps', 'youtube', 'spotify']\n"
     ]
    }
   ],
   "source": [
    "#copy()- used to make copy of existing list so that after alteration original list is not lost\n",
    "b=apps.copy()\n",
    "print(b)"
   ]
  },
  {
   "cell_type": "code",
   "execution_count": 51,
   "metadata": {},
   "outputs": [
    {
     "name": "stdout",
     "output_type": "stream",
     "text": [
      "[]\n"
     ]
    }
   ],
   "source": [
    "#clear()- used to clear/empty list\n",
    "apps.clear()\n",
    "print(apps)"
   ]
  },
  {
   "cell_type": "code",
   "execution_count": 52,
   "metadata": {},
   "outputs": [
    {
     "name": "stdout",
     "output_type": "stream",
     "text": [
      "[]\n",
      "['zomato', 'whatsapp', 'uber', 'telegram', 'snapchat', 'snapchat', 'photos', 'nykaa', 'meesho', 'linkedin', 'instagram', 'google', 'facebook', 'chrome', 'X', 'Rapido', 'twitter', 'calender', 'maps', 'youtube', 'spotify']\n"
     ]
    }
   ],
   "source": [
    "print(apps)\n",
    "print(b)"
   ]
  }
 ],
 "metadata": {
  "kernelspec": {
   "display_name": "base",
   "language": "python",
   "name": "python3"
  },
  "language_info": {
   "codemirror_mode": {
    "name": "ipython",
    "version": 3
   },
   "file_extension": ".py",
   "mimetype": "text/x-python",
   "name": "python",
   "nbconvert_exporter": "python",
   "pygments_lexer": "ipython3",
   "version": "3.12.4"
  }
 },
 "nbformat": 4,
 "nbformat_minor": 2
}
