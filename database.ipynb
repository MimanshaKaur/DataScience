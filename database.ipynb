{
 "cells": [
  {
   "cell_type": "markdown",
   "metadata": {},
   "source": [
    "### Mandatory steps for working with SQLalchemy :\n",
    "- import\n",
    "- create database with name\n",
    "- initialize base\n",
    "- create base\n",
    "- create engine\n",
    "- create session"
   ]
  },
  {
   "cell_type": "code",
   "execution_count": 44,
   "metadata": {},
   "outputs": [],
   "source": [
    "# always import them for using sqlalchemy\n",
    "from sqlalchemy import create_engine, Column, Integer, String\n",
    "from sqlalchemy.ext.declarative import declarative_base\n",
    "from sqlalchemy.orm import sessionmaker"
   ]
  },
  {
   "cell_type": "code",
   "execution_count": 45,
   "metadata": {},
   "outputs": [],
   "source": [
    "# create_engine is used to create database by giving it's name\n",
    "# here we are creating an engine that stores data in the local directory of user.db file.\n",
    "engine = create_engine('sqlite:///user.db')"
   ]
  },
  {
   "cell_type": "code",
   "execution_count": 46,
   "metadata": {},
   "outputs": [
    {
     "name": "stderr",
     "output_type": "stream",
     "text": [
      "C:\\Users\\Mimansha\\AppData\\Local\\Temp\\ipykernel_8780\\2650197008.py:3: MovedIn20Warning: The ``declarative_base()`` function is now available as sqlalchemy.orm.declarative_base(). (deprecated since: 2.0) (Background on SQLAlchemy 2.0 at: https://sqlalche.me/e/b8d9)\n",
      "  Base = declarative_base()\n"
     ]
    }
   ],
   "source": [
    "# creating base class so that we can define models, models are the structure of the data in your database.\n",
    "# initializing base(model)\n",
    "Base = declarative_base()"
   ]
  },
  {
   "cell_type": "code",
   "execution_count": 47,
   "metadata": {},
   "outputs": [],
   "source": [
    "# creating base class\n",
    "class User(Base):\n",
    "    __tablename__ = 'users'\n",
    "\n",
    "    id  = Column(Integer, primary_key = True)\n",
    "    name = Column(String(50))\n",
    "    email = Column(String(100))\n"
   ]
  },
  {
   "cell_type": "code",
   "execution_count": 48,
   "metadata": {},
   "outputs": [],
   "source": [
    "# creating engine----mandatory step\n",
    "Base.metadata.create_all(engine)"
   ]
  },
  {
   "cell_type": "code",
   "execution_count": 49,
   "metadata": {},
   "outputs": [],
   "source": [
    "# creating session---mandatory step\n",
    "Session = sessionmaker(bind=engine)\n",
    "session = Session()"
   ]
  },
  {
   "cell_type": "code",
   "execution_count": 50,
   "metadata": {},
   "outputs": [],
   "source": [
    "# ADDIGN DATA IN DATABASE TABLE\n",
    "# add a new user\n",
    "new_user = User(name='Bob ', email ='bob123@gmail.com')\n",
    "session.add(new_user)\n",
    "session.commit()"
   ]
  },
  {
   "cell_type": "code",
   "execution_count": 51,
   "metadata": {},
   "outputs": [],
   "source": [
    "new_user = User(name='Ali', email='ali123@gmail.com')\n",
    "session.add(new_user)\n",
    "session.commit()"
   ]
  },
  {
   "cell_type": "code",
   "execution_count": 52,
   "metadata": {},
   "outputs": [
    {
     "name": "stdout",
     "output_type": "stream",
     "text": [
      "ID: 1, Name: Alice, Email: bob123@gmail.com\n",
      "ID: 2, Name: Bob , Email: bob123@gmail.com\n",
      "ID: 3, Name: Ali, Email: ali123@gmail.com\n"
     ]
    }
   ],
   "source": [
    "# retrieving data ---to access all records present in the table\n",
    "users = session.query(User).all()\n",
    "for user in users:\n",
    "    print(f'ID: {user.id}, Name: {user.name}, Email: {user.email}')"
   ]
  },
  {
   "cell_type": "code",
   "execution_count": 53,
   "metadata": {},
   "outputs": [],
   "source": [
    "# updating data\n",
    "user =  session.query(User).filter_by(id = 1).first()   # selecting particular data according to primary key field----first() is used so that first field that matches the criteria is selected.\n",
    "user.name = \"Alice\"\n",
    "session.commit()"
   ]
  },
  {
   "cell_type": "code",
   "execution_count": 54,
   "metadata": {},
   "outputs": [
    {
     "name": "stdout",
     "output_type": "stream",
     "text": [
      "ID: 1, Name: Alice, Email: bob123@gmail.com\n",
      "ID: 2, Name: Bob , Email: bob123@gmail.com\n",
      "ID: 3, Name: Ali, Email: ali123@gmail.com\n"
     ]
    }
   ],
   "source": [
    "users = session.query(User).all()     #--all()--provides all data present in table\n",
    "for user in users:\n",
    "    print(f'ID: {user.id}, Name: {user.name}, Email: {user.email}')"
   ]
  },
  {
   "cell_type": "code",
   "execution_count": 55,
   "metadata": {},
   "outputs": [],
   "source": [
    "# deleting data\n",
    "user= session.query(User).filter_by(id=3).first()\n",
    "session.delete(user)\n",
    "session.commit()\n"
   ]
  },
  {
   "cell_type": "code",
   "execution_count": 56,
   "metadata": {},
   "outputs": [
    {
     "name": "stdout",
     "output_type": "stream",
     "text": [
      "ID: 1, Name: Alice, Email: bob123@gmail.com\n",
      "ID: 2, Name: Bob , Email: bob123@gmail.com\n"
     ]
    }
   ],
   "source": [
    "users = session.query(User).all()     #--all()--provides all data present in table\n",
    "for user in users:\n",
    "    print(f'ID: {user.id}, Name: {user.name}, Email: {user.email}')"
   ]
  },
  {
   "cell_type": "code",
   "execution_count": 58,
   "metadata": {},
   "outputs": [
    {
     "ename": "UnmappedInstanceError",
     "evalue": "Class 'builtins.NoneType' is not mapped",
     "output_type": "error",
     "traceback": [
      "\u001b[1;31m---------------------------------------------------------------------------\u001b[0m",
      "\u001b[1;31mAttributeError\u001b[0m                            Traceback (most recent call last)",
      "File \u001b[1;32mc:\\Users\\Mimansha\\miniconda3\\Lib\\site-packages\\sqlalchemy\\orm\\session.py:3534\u001b[0m, in \u001b[0;36mSession.delete\u001b[1;34m(self, instance)\u001b[0m\n\u001b[0;32m   3533\u001b[0m \u001b[38;5;28;01mtry\u001b[39;00m:\n\u001b[1;32m-> 3534\u001b[0m     state \u001b[38;5;241m=\u001b[39m \u001b[43mattributes\u001b[49m\u001b[38;5;241;43m.\u001b[39;49m\u001b[43minstance_state\u001b[49m\u001b[43m(\u001b[49m\u001b[43minstance\u001b[49m\u001b[43m)\u001b[49m\n\u001b[0;32m   3535\u001b[0m \u001b[38;5;28;01mexcept\u001b[39;00m exc\u001b[38;5;241m.\u001b[39mNO_STATE \u001b[38;5;28;01mas\u001b[39;00m err:\n",
      "\u001b[1;31mAttributeError\u001b[0m: 'NoneType' object has no attribute '_sa_instance_state'",
      "\nThe above exception was the direct cause of the following exception:\n",
      "\u001b[1;31mUnmappedInstanceError\u001b[0m                     Traceback (most recent call last)",
      "Cell \u001b[1;32mIn[58], line 2\u001b[0m\n\u001b[0;32m      1\u001b[0m user \u001b[38;5;241m=\u001b[39m session\u001b[38;5;241m.\u001b[39mquery(User)\u001b[38;5;241m.\u001b[39mfilter_by(\u001b[38;5;28mid\u001b[39m \u001b[38;5;241m=\u001b[39m \u001b[38;5;241m4\u001b[39m)\u001b[38;5;241m.\u001b[39mfirst()\n\u001b[1;32m----> 2\u001b[0m \u001b[43msession\u001b[49m\u001b[38;5;241;43m.\u001b[39;49m\u001b[43mdelete\u001b[49m\u001b[43m(\u001b[49m\u001b[43muser\u001b[49m\u001b[43m)\u001b[49m\n\u001b[0;32m      3\u001b[0m session\u001b[38;5;241m.\u001b[39mcommit()\n",
      "File \u001b[1;32mc:\\Users\\Mimansha\\miniconda3\\Lib\\site-packages\\sqlalchemy\\orm\\session.py:3536\u001b[0m, in \u001b[0;36mSession.delete\u001b[1;34m(self, instance)\u001b[0m\n\u001b[0;32m   3534\u001b[0m     state \u001b[38;5;241m=\u001b[39m attributes\u001b[38;5;241m.\u001b[39minstance_state(instance)\n\u001b[0;32m   3535\u001b[0m \u001b[38;5;28;01mexcept\u001b[39;00m exc\u001b[38;5;241m.\u001b[39mNO_STATE \u001b[38;5;28;01mas\u001b[39;00m err:\n\u001b[1;32m-> 3536\u001b[0m     \u001b[38;5;28;01mraise\u001b[39;00m exc\u001b[38;5;241m.\u001b[39mUnmappedInstanceError(instance) \u001b[38;5;28;01mfrom\u001b[39;00m \u001b[38;5;21;01merr\u001b[39;00m\n\u001b[0;32m   3538\u001b[0m \u001b[38;5;28mself\u001b[39m\u001b[38;5;241m.\u001b[39m_delete_impl(state, instance, head\u001b[38;5;241m=\u001b[39m\u001b[38;5;28;01mTrue\u001b[39;00m)\n",
      "\u001b[1;31mUnmappedInstanceError\u001b[0m: Class 'builtins.NoneType' is not mapped"
     ]
    }
   ],
   "source": [
    "user = session.query(User).filter_by(id = 4).first()\n",
    "session.delete(user)\n",
    "session.commit()"
   ]
  },
  {
   "cell_type": "code",
   "execution_count": null,
   "metadata": {},
   "outputs": [
    {
     "name": "stdout",
     "output_type": "stream",
     "text": [
      "ID: 1, Name: Alice, Email: bob123@gmail.com\n",
      "ID: 2, Name: Ali, Email: ali123@gmail.com\n",
      "ID: 4, Name: Ali, Email: ali123@gmail.com\n"
     ]
    }
   ],
   "source": [
    "user = session.query(User).all()\n",
    "for user in users:\n",
    "    print(f'ID: {user.id}, Name: {user.name}, Email: {user.email}')"
   ]
  },
  {
   "cell_type": "code",
   "execution_count": null,
   "metadata": {},
   "outputs": [],
   "source": [
    "user= session.query(User).filter_by(id=2).first()\n",
    "session.delete(user)\n",
    "session.commit()"
   ]
  },
  {
   "cell_type": "code",
   "execution_count": null,
   "metadata": {},
   "outputs": [
    {
     "name": "stdout",
     "output_type": "stream",
     "text": [
      "ID: 1, Name: Alice, Email: bob123@gmail.com\n",
      "ID: 2, Name: Ali, Email: ali123@gmail.com\n",
      "ID: 4, Name: Ali, Email: ali123@gmail.com\n"
     ]
    }
   ],
   "source": [
    "user = session.query(User).all()\n",
    "for user in users:\n",
    "    print(f'ID: {user.id}, Name: {user.name}, Email: {user.email}')"
   ]
  },
  {
   "cell_type": "code",
   "execution_count": null,
   "metadata": {},
   "outputs": [],
   "source": []
  }
 ],
 "metadata": {
  "kernelspec": {
   "display_name": "base",
   "language": "python",
   "name": "python3"
  },
  "language_info": {
   "codemirror_mode": {
    "name": "ipython",
    "version": 3
   },
   "file_extension": ".py",
   "mimetype": "text/x-python",
   "name": "python",
   "nbconvert_exporter": "python",
   "pygments_lexer": "ipython3",
   "version": "3.12.4"
  }
 },
 "nbformat": 4,
 "nbformat_minor": 2
}
